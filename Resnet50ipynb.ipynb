{
  "nbformat": 4,
  "nbformat_minor": 0,
  "metadata": {
    "colab": {
      "name": "Resnet50ipynb",
      "provenance": []
    },
    "kernelspec": {
      "name": "python3",
      "display_name": "Python 3"
    }
  },
  "cells": [
    {
      "cell_type": "code",
      "metadata": {
        "id": "5nIleIihz5_y",
        "colab_type": "code",
        "colab": {}
      },
      "source": [
        "from keras.models import  Sequential\n",
        "from keras import regularizers\n",
        "from keras.layers import Dense,Dropout,GlobalAveragePooling2D\n",
        "from keras.preprocessing.image import ImageDataGenerator\n",
        "from keras.preprocessing import image\n",
        "from keras.applications import VGG19"
      ],
      "execution_count": 0,
      "outputs": []
    },
    {
      "cell_type": "code",
      "metadata": {
        "id": "b_qALFxp1b6W",
        "colab_type": "code",
        "colab": {}
      },
      "source": [
        "PATHtrain = '/content/drive/My Drive/PAK dataset/Final'"
      ],
      "execution_count": 0,
      "outputs": []
    },
    {
      "cell_type": "code",
      "metadata": {
        "id": "vggk_tCY1gKy",
        "colab_type": "code",
        "colab": {
          "base_uri": "https://localhost:8080/",
          "height": 71
        },
        "outputId": "2f17d960-fe2a-4606-807f-333faa284b54"
      },
      "source": [
        "mobileNetModel = VGG19(weights = 'imagenet',\n",
        "                         include_top=False,\n",
        "                         input_shape = (300,300,3))"
      ],
      "execution_count": 65,
      "outputs": [
        {
          "output_type": "stream",
          "text": [
            "Downloading data from https://github.com/fchollet/deep-learning-models/releases/download/v0.1/vgg19_weights_tf_dim_ordering_tf_kernels_notop.h5\n",
            "80142336/80134624 [==============================] - 1s 0us/step\n"
          ],
          "name": "stdout"
        }
      ]
    },
    {
      "cell_type": "code",
      "metadata": {
        "id": "YSeh9S8F18eO",
        "colab_type": "code",
        "colab": {
          "base_uri": "https://localhost:8080/",
          "height": 918
        },
        "outputId": "d5e149df-35ce-4a81-b126-8aabce4f5166"
      },
      "source": [
        "print(mobileNetModel.summary())"
      ],
      "execution_count": 66,
      "outputs": [
        {
          "output_type": "stream",
          "text": [
            "Model: \"vgg19\"\n",
            "_________________________________________________________________\n",
            "Layer (type)                 Output Shape              Param #   \n",
            "=================================================================\n",
            "input_4 (InputLayer)         (None, 300, 300, 3)       0         \n",
            "_________________________________________________________________\n",
            "block1_conv1 (Conv2D)        (None, 300, 300, 64)      1792      \n",
            "_________________________________________________________________\n",
            "block1_conv2 (Conv2D)        (None, 300, 300, 64)      36928     \n",
            "_________________________________________________________________\n",
            "block1_pool (MaxPooling2D)   (None, 150, 150, 64)      0         \n",
            "_________________________________________________________________\n",
            "block2_conv1 (Conv2D)        (None, 150, 150, 128)     73856     \n",
            "_________________________________________________________________\n",
            "block2_conv2 (Conv2D)        (None, 150, 150, 128)     147584    \n",
            "_________________________________________________________________\n",
            "block2_pool (MaxPooling2D)   (None, 75, 75, 128)       0         \n",
            "_________________________________________________________________\n",
            "block3_conv1 (Conv2D)        (None, 75, 75, 256)       295168    \n",
            "_________________________________________________________________\n",
            "block3_conv2 (Conv2D)        (None, 75, 75, 256)       590080    \n",
            "_________________________________________________________________\n",
            "block3_conv3 (Conv2D)        (None, 75, 75, 256)       590080    \n",
            "_________________________________________________________________\n",
            "block3_conv4 (Conv2D)        (None, 75, 75, 256)       590080    \n",
            "_________________________________________________________________\n",
            "block3_pool (MaxPooling2D)   (None, 37, 37, 256)       0         \n",
            "_________________________________________________________________\n",
            "block4_conv1 (Conv2D)        (None, 37, 37, 512)       1180160   \n",
            "_________________________________________________________________\n",
            "block4_conv2 (Conv2D)        (None, 37, 37, 512)       2359808   \n",
            "_________________________________________________________________\n",
            "block4_conv3 (Conv2D)        (None, 37, 37, 512)       2359808   \n",
            "_________________________________________________________________\n",
            "block4_conv4 (Conv2D)        (None, 37, 37, 512)       2359808   \n",
            "_________________________________________________________________\n",
            "block4_pool (MaxPooling2D)   (None, 18, 18, 512)       0         \n",
            "_________________________________________________________________\n",
            "block5_conv1 (Conv2D)        (None, 18, 18, 512)       2359808   \n",
            "_________________________________________________________________\n",
            "block5_conv2 (Conv2D)        (None, 18, 18, 512)       2359808   \n",
            "_________________________________________________________________\n",
            "block5_conv3 (Conv2D)        (None, 18, 18, 512)       2359808   \n",
            "_________________________________________________________________\n",
            "block5_conv4 (Conv2D)        (None, 18, 18, 512)       2359808   \n",
            "_________________________________________________________________\n",
            "block5_pool (MaxPooling2D)   (None, 9, 9, 512)         0         \n",
            "=================================================================\n",
            "Total params: 20,024,384\n",
            "Trainable params: 20,024,384\n",
            "Non-trainable params: 0\n",
            "_________________________________________________________________\n",
            "None\n"
          ],
          "name": "stdout"
        }
      ]
    },
    {
      "cell_type": "code",
      "metadata": {
        "id": "FhDV4xuS2NOU",
        "colab_type": "code",
        "colab": {}
      },
      "source": [
        "model= Sequential()\n",
        "model.add(mobileNetModel)\n",
        "model.add(GlobalAveragePooling2D())\n",
        "model.add(Dropout(0.5))\n",
        "model.add(Dense(64, activation='relu',kernel_regularizer=regularizers.l2(0.001)))\n",
        "model.add(Dropout(0.5))\n",
        "model.add(Dense(37, activation='sigmoid'))\n",
        "model.compile(optimizer='rmsprop',loss='categorical_crossentropy',metrics=['accuracy'])"
      ],
      "execution_count": 0,
      "outputs": []
    },
    {
      "cell_type": "code",
      "metadata": {
        "id": "_zMKTJhO2m-J",
        "colab_type": "code",
        "colab": {
          "base_uri": "https://localhost:8080/",
          "height": 34
        },
        "outputId": "310bd5a6-1a7e-4e0e-9f45-c75407da430d"
      },
      "source": [
        "# Make the conv_base NOT trainable:\n",
        "\n",
        "for layer in mobileNetModel.layers[:]:\n",
        "   layer.trainable = False\n",
        "\n",
        "print('ResnetModel is now NOT trainable')"
      ],
      "execution_count": 68,
      "outputs": [
        {
          "output_type": "stream",
          "text": [
            "ResnetModel is now NOT trainable\n"
          ],
          "name": "stdout"
        }
      ]
    },
    {
      "cell_type": "code",
      "metadata": {
        "id": "ifNx8dTl3IMd",
        "colab_type": "code",
        "colab": {
          "base_uri": "https://localhost:8080/",
          "height": 391
        },
        "outputId": "9f88c074-ab32-440a-bf49-426b66075edb"
      },
      "source": [
        "for i, layer in enumerate(mobileNetModel.layers):\n",
        "   print(i, layer.name, layer.trainable)"
      ],
      "execution_count": 69,
      "outputs": [
        {
          "output_type": "stream",
          "text": [
            "0 input_4 False\n",
            "1 block1_conv1 False\n",
            "2 block1_conv2 False\n",
            "3 block1_pool False\n",
            "4 block2_conv1 False\n",
            "5 block2_conv2 False\n",
            "6 block2_pool False\n",
            "7 block3_conv1 False\n",
            "8 block3_conv2 False\n",
            "9 block3_conv3 False\n",
            "10 block3_conv4 False\n",
            "11 block3_pool False\n",
            "12 block4_conv1 False\n",
            "13 block4_conv2 False\n",
            "14 block4_conv3 False\n",
            "15 block4_conv4 False\n",
            "16 block4_pool False\n",
            "17 block5_conv1 False\n",
            "18 block5_conv2 False\n",
            "19 block5_conv3 False\n",
            "20 block5_conv4 False\n",
            "21 block5_pool False\n"
          ],
          "name": "stdout"
        }
      ]
    },
    {
      "cell_type": "code",
      "metadata": {
        "id": "ofJgmySW3Sat",
        "colab_type": "code",
        "colab": {
          "base_uri": "https://localhost:8080/",
          "height": 34
        },
        "outputId": "fc1187e2-43c0-4b5e-d8cc-da0ca0de709a"
      },
      "source": [
        "train_dir = PATHtrain\n",
        "batch_size = 20\n",
        "target_size=(300, 300)\n",
        "\n",
        "#train_datagen = ImageDataGenerator(rescale=1./255)\n",
        "train_datagen = ImageDataGenerator(rescale=1./255,\n",
        "                                   rotation_range=40,\n",
        "                                   width_shift_range=0.2,\n",
        "                                   height_shift_range=0.2,\n",
        "                                   shear_range=0.2,\n",
        "                                   zoom_range=0.2,\n",
        "                                   horizontal_flip=True,\n",
        "                                   vertical_flip=True,\n",
        "                                   fill_mode='nearest')\n",
        "\n",
        "test_datagen = ImageDataGenerator(rescale=1./255)\n",
        "\n",
        "train_generator = train_datagen.flow_from_directory(\n",
        "    train_dir,target_size=target_size,batch_size=batch_size)"
      ],
      "execution_count": 70,
      "outputs": [
        {
          "output_type": "stream",
          "text": [
            "Found 1850 images belonging to 37 classes.\n"
          ],
          "name": "stdout"
        }
      ]
    },
    {
      "cell_type": "code",
      "metadata": {
        "id": "l51EkQgh3xlK",
        "colab_type": "code",
        "colab": {
          "base_uri": "https://localhost:8080/",
          "height": 54
        },
        "outputId": "a936de3e-bb1e-4c1c-b817-e7d2fe9f3be8"
      },
      "source": [
        "print(train_generator.class_indices)"
      ],
      "execution_count": 71,
      "outputs": [
        {
          "output_type": "stream",
          "text": [
            "{'Charade': 0, 'Citroen Piaso': 1, 'Daihatsu Coure': 2, 'Daihatsu Hijet': 3, 'Daihatsu Mira': 4, 'Datsun Go': 5, 'Honda City': 6, 'Honda Civic': 7, 'Honda Civic Dolphin': 8, 'Honda Civic Reborn': 9, 'Honda Cr-V': 10, 'Honda Freed': 11, 'Honda Jade': 12, 'Honda vezel': 13, 'Hyundai Santro': 14, 'Kia Classic': 15, 'Kia Spectra': 16, 'Mitsubishi Lancer': 17, 'Mitsubishi Minicab': 18, 'Suzuki Baleno': 19, 'Suzuki Bolan': 20, 'Suzuki Every': 21, 'Suzuki Khyber': 22, 'Suzuki Liana': 23, 'Suzuki Margalla': 24, 'Suzuki Mehran': 25, 'Suzuki Swift': 26, 'Suzuki WagonR': 27, 'Toyota Atlis': 28, 'Toyota Belta': 29, 'Toyota Corolla': 30, 'Toyota Hilux': 31, 'Toyota Passo': 32, 'Toyota Platz': 33, 'Toyota Prado': 34, 'Toyota Surf': 35, 'kia spotage': 36}\n"
          ],
          "name": "stdout"
        }
      ]
    },
    {
      "cell_type": "code",
      "metadata": {
        "id": "YatbmXB_4aUp",
        "colab_type": "code",
        "colab": {
          "base_uri": "https://localhost:8080/",
          "height": 139
        },
        "outputId": "456fd38e-1ae1-4beb-dd8f-a28b95101170"
      },
      "source": [
        "history = model.fit_generator(train_generator,\n",
        "                              epochs=3,\n",
        "                              steps_per_epoch = 1850)"
      ],
      "execution_count": 0,
      "outputs": [
        {
          "output_type": "stream",
          "text": [
            "/usr/local/lib/python3.6/dist-packages/keras/engine/training.py:493: UserWarning: Discrepancy between trainable weights and collected trainable weights, did you set `model.trainable` without calling `model.compile` after ?\n",
            "  'Discrepancy between trainable weights and collected trainable'\n"
          ],
          "name": "stderr"
        },
        {
          "output_type": "stream",
          "text": [
            "Epoch 1/3\n",
            "  19/1850 [..............................] - ETA: 42:42:08 - loss: 9.2736 - acc: 0.0342"
          ],
          "name": "stdout"
        },
        {
          "output_type": "stream",
          "text": [
            "/usr/local/lib/python3.6/dist-packages/PIL/Image.py:989: UserWarning: Palette images with Transparency expressed in bytes should be converted to RGBA images\n",
            "  \"Palette images with Transparency expressed in bytes should be \"\n"
          ],
          "name": "stderr"
        },
        {
          "output_type": "stream",
          "text": [
            "  52/1850 [..............................] - ETA: 41:40:18 - loss: 9.7809 - acc: 0.0269"
          ],
          "name": "stdout"
        }
      ]
    }
  ]
}